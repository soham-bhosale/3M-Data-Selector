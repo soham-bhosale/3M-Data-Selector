{
 "cells": [
  {
   "attachments": {},
   "cell_type": "markdown",
   "metadata": {},
   "source": [
    "### Using Jupyter Notebook and CLI tool for uploading attribute, attribute options and families\n",
    "\n",
    "- Clone repository to local. Install and run.<code>composer require composer</code>\n",
    "\n",
    "### A: Jupyter Notebook:-\n",
    "> 1. Enter input file path in ```inputPath``` variable.\n",
    "> 2. Enter attribute column names in ```req_columns``` variable. (Default required are:-'3M ID','Marketplace Formal Name', 'Marketplace Description', 'Marketplace Description        Extended', 'Main Picture ', 'Shipper - Item Quantity').\n",
    "> 3. Enter output file path in ```ouputFileName``` variable.\n",
    "> 4. Run the whole script from top cell.\n",
    "> 5. OutputFile will now be generated at provided location.\n",
    "\n",
    "### B: Terminal commands to generate JSONs and push attribute, attribute options and families.\n",
    "> 1. To generate JSONs for attribute and families; enter command-\n",
    "> \n",
    ">> ```bin/console app:gen-attrs-json <validInputExcelFilePath> <outputJsonFilePath>```\n",
    ">\n",
    "> 2. In order to directly push attributes; add flag --attrPush=1. To push families also; add flag --famPush=1.\n",
    ">\n",
    ">> ```bin/console app:gen-attrs-json <validInputExcelFilePath> <outputJsonFilePath> --attrPush=1 --famPush=1```\n",
    ">\n",
    "> 3. To generate JSONs for attribute options and families; enter command-\n",
    ">\n",
    ">> ```bin/console app:gen-attrs-options-json <validInputExcelFilePath> <outputJsonFilePath>```\n",
    ">\n",
    "> 4. In order to directly push attribute; add flag --push=1.\n",
    ">\n",
    ">> ```bin/console app:gen-attrs-options-json <validInputExcelFilePath> <outputJsonFilePath> --push=1```\n"
   ]
  },
  {
   "cell_type": "code",
   "execution_count": 1,
   "metadata": {},
   "outputs": [],
   "source": [
    "#Importing Libraries\n",
    "import pandas as pd\n",
    "import numpy as np\n",
    "import subprocess as sp"
   ]
  },
  {
   "attachments": {},
   "cell_type": "markdown",
   "metadata": {},
   "source": [
    "#### Setup configurations and file paths\n",
    "- inputPath :- Input xlsx file path\n",
    "- outputFileName :- Output xlsx file path.\n",
    "- req_columns :- Required column names from xlsx file. (Enter exact name. Along with leading or trailing spaces)\n",
    "- output JSON folder path:- Path to output JSON storage folder. (Two JSONs will be created. One for attributes and family and second for attribute options. Options JSON will have 'Options' in the file name. JSON file name will be taken from out put excel file name.)\n",
    "- familyName :- Family name for current file.\n",
    "- attrPush :- Flag to determine whether to push attributes directly from here. (To push enter 1 otherwise 0)\n",
    "- famPush :- Flag to determine whether to push families directly from here. (To push enter 1 otherwise 0)\n",
    "- optionsPush :- Flag to determine whether to push options directly from here. (To push enter 1 otherwise 0)"
   ]
  },
  {
   "cell_type": "code",
   "execution_count": 28,
   "metadata": {},
   "outputs": [],
   "source": [
    "# Required variables\n",
    "inputPath = \"/home/soham/Important/Data/3M/Abrasives/Abrasive Sheets & Rolls/Brush Sheets & Rolls.xlsx\"\n",
    "req_columns = ['3M ID','Marketplace Formal Name', 'Marketplace Description', 'Marketplace Description Extended', 'Main Picture ',\n",
    "                'Shipper - Item Quantity', #Defaults\n",
    "                'Abrasive Material','Center Hole Diameter (Imperial)','Grit' ]\n",
    "outputFileName = '/home/soham/Important/Output/3M/Brush Sheets and Rolls.xlsx'\n",
    "jsonFolder = '/home/soham/Parser/xml_parser/output/JSON/3M/'\n",
    "familyName = \"Brush Sheets and Rolls\"\n",
    "attrPush = 0\n",
    "famPush = 0\n",
    "optionsPush = 0"
   ]
  },
  {
   "cell_type": "code",
   "execution_count": 463,
   "metadata": {},
   "outputs": [],
   "source": [
    "#Reading excel file\n",
    "db = pd.read_excel(inputPath, header=None)"
   ]
  },
  {
   "cell_type": "code",
   "execution_count": 466,
   "metadata": {},
   "outputs": [
    {
     "data": {
      "text/html": [
       "<div>\n",
       "<style scoped>\n",
       "    .dataframe tbody tr th:only-of-type {\n",
       "        vertical-align: middle;\n",
       "    }\n",
       "\n",
       "    .dataframe tbody tr th {\n",
       "        vertical-align: top;\n",
       "    }\n",
       "\n",
       "    .dataframe thead th {\n",
       "        text-align: right;\n",
       "    }\n",
       "</style>\n",
       "<table border=\"1\" class=\"dataframe\">\n",
       "  <thead>\n",
       "    <tr style=\"text-align: right;\">\n",
       "      <th></th>\n",
       "      <th>3M ID</th>\n",
       "      <th>Marketplace Formal Name</th>\n",
       "      <th>Marketplace Description</th>\n",
       "      <th>Marketplace Description Extended</th>\n",
       "      <th>Main Picture</th>\n",
       "      <th>Shipper - Item Quantity</th>\n",
       "      <th>Abrasive Material</th>\n",
       "      <th>Center Hole Diameter (Imperial)</th>\n",
       "      <th>Grit</th>\n",
       "    </tr>\n",
       "  </thead>\n",
       "  <tbody>\n",
       "    <tr>\n",
       "      <th>2</th>\n",
       "      <td>7100260361</td>\n",
       "      <td>3M™ Brushlon Sheet 320B, 0.005 3/16 in Trim, G...</td>\n",
       "      <td>3M™ Brushlon Sheet 320B features short-trim ny...</td>\n",
       "      <td>3M™ Brushlon™ Abrasives: Choosing the Right On...</td>\n",
       "      <td>NaN</td>\n",
       "      <td>26.0</td>\n",
       "      <td>Nylon</td>\n",
       "      <td>NaN</td>\n",
       "      <td>Non Pertinent</td>\n",
       "    </tr>\n",
       "    <tr>\n",
       "      <th>3</th>\n",
       "      <td>7100260355</td>\n",
       "      <td>3M™ Brushlon Sheet 320BX, 0.005 1/8 in Trim, B...</td>\n",
       "      <td>3M™ Brushlon Roll 320BX is designed to provide...</td>\n",
       "      <td>3M™ Brushlon™ Abrasives: Choosing the Right On...</td>\n",
       "      <td>NaN</td>\n",
       "      <td>25.0</td>\n",
       "      <td>Nylon</td>\n",
       "      <td>NaN</td>\n",
       "      <td>Non Pertinent</td>\n",
       "    </tr>\n",
       "    <tr>\n",
       "      <th>4</th>\n",
       "      <td>7100260360</td>\n",
       "      <td>3M™ Brushlon Sheet 320B, 0.005 5/32 in Trim, G...</td>\n",
       "      <td>3M™ Brushlon Roll 320BX is designed to provide...</td>\n",
       "      <td>3M™ Brushlon™ Abrasives: Choosing the Right On...</td>\n",
       "      <td>NaN</td>\n",
       "      <td>25.0</td>\n",
       "      <td>Nylon</td>\n",
       "      <td>NaN</td>\n",
       "      <td>Non Pertinent</td>\n",
       "    </tr>\n",
       "    <tr>\n",
       "      <th>5</th>\n",
       "      <td>7100260363</td>\n",
       "      <td>3M™ Brushlon Sheet 320BX, 0.005 5/32 in Trim, ...</td>\n",
       "      <td>3M™ Brushlon Roll 320BX is designed to provide...</td>\n",
       "      <td>3M™ Brushlon™ Abrasives: Choosing the Right On...</td>\n",
       "      <td>NaN</td>\n",
       "      <td>25.0</td>\n",
       "      <td>Nylon</td>\n",
       "      <td>NaN</td>\n",
       "      <td>Non Pertinent</td>\n",
       "    </tr>\n",
       "    <tr>\n",
       "      <th>6</th>\n",
       "      <td>7100119912</td>\n",
       "      <td>3M™ Brushlon Roll 320BX, .005 5/32 in Trim, Bl...</td>\n",
       "      <td>3M™ Brushlon Roll 320B features short-trim nyl...</td>\n",
       "      <td>3M™ Brushlon™ Products: Choosing the Right One...</td>\n",
       "      <td>https://images.salsify.com/image/upload/s--jIO...</td>\n",
       "      <td>NaN</td>\n",
       "      <td>Nylon</td>\n",
       "      <td>NaN</td>\n",
       "      <td>Non Pertinent</td>\n",
       "    </tr>\n",
       "  </tbody>\n",
       "</table>\n",
       "</div>"
      ],
      "text/plain": [
       "        3M ID                            Marketplace Formal Name  \\\n",
       "2  7100260361  3M™ Brushlon Sheet 320B, 0.005 3/16 in Trim, G...   \n",
       "3  7100260355  3M™ Brushlon Sheet 320BX, 0.005 1/8 in Trim, B...   \n",
       "4  7100260360  3M™ Brushlon Sheet 320B, 0.005 5/32 in Trim, G...   \n",
       "5  7100260363  3M™ Brushlon Sheet 320BX, 0.005 5/32 in Trim, ...   \n",
       "6  7100119912  3M™ Brushlon Roll 320BX, .005 5/32 in Trim, Bl...   \n",
       "\n",
       "                             Marketplace Description  \\\n",
       "2  3M™ Brushlon Sheet 320B features short-trim ny...   \n",
       "3  3M™ Brushlon Roll 320BX is designed to provide...   \n",
       "4  3M™ Brushlon Roll 320BX is designed to provide...   \n",
       "5  3M™ Brushlon Roll 320BX is designed to provide...   \n",
       "6  3M™ Brushlon Roll 320B features short-trim nyl...   \n",
       "\n",
       "                    Marketplace Description Extended  \\\n",
       "2  3M™ Brushlon™ Abrasives: Choosing the Right On...   \n",
       "3  3M™ Brushlon™ Abrasives: Choosing the Right On...   \n",
       "4  3M™ Brushlon™ Abrasives: Choosing the Right On...   \n",
       "5  3M™ Brushlon™ Abrasives: Choosing the Right On...   \n",
       "6  3M™ Brushlon™ Products: Choosing the Right One...   \n",
       "\n",
       "                                       Main Picture  Shipper - Item Quantity  \\\n",
       "2                                                NaN                    26.0   \n",
       "3                                                NaN                    25.0   \n",
       "4                                                NaN                    25.0   \n",
       "5                                                NaN                    25.0   \n",
       "6  https://images.salsify.com/image/upload/s--jIO...                     NaN   \n",
       "\n",
       "  Abrasive Material Center Hole Diameter (Imperial)           Grit  \n",
       "2             Nylon                             NaN  Non Pertinent  \n",
       "3             Nylon                             NaN  Non Pertinent  \n",
       "4             Nylon                             NaN  Non Pertinent  \n",
       "5             Nylon                             NaN  Non Pertinent  \n",
       "6             Nylon                             NaN  Non Pertinent  "
      ]
     },
     "execution_count": 466,
     "metadata": {},
     "output_type": "execute_result"
    }
   ],
   "source": [
    "# Retriving required columns\n",
    "df = pd.DataFrame(db)\n",
    "df2 = df.drop(df.index[0])\n",
    "headers = df2.iloc[0:1,:]\n",
    "arr = []\n",
    "for h in range(len(headers.columns)):\n",
    "    arr.append(headers[h][1])\n",
    "df2 = df2.drop(df2.index[0])\n",
    "df2.columns = arr\n",
    "df3 = df2.loc[:,req_columns]\n",
    "df3.head()"
   ]
  },
  {
   "cell_type": "code",
   "execution_count": 467,
   "metadata": {},
   "outputs": [
    {
     "name": "stdout",
     "output_type": "stream",
     "text": [
      "Valid cols are\n",
      "3M ID\n",
      "Marketplace Formal Name\n",
      "Marketplace Description\n",
      "Marketplace Description Extended\n",
      "Main Picture \n",
      "Shipper - Item Quantity\n",
      "Abrasive Material\n",
      "\n",
      "Invalid cols are\n",
      "Center Hole Diameter (Imperial)\n",
      "Grit\n"
     ]
    }
   ],
   "source": [
    "#Filetering out invalid columns\n",
    "invalidValues = ['NaN','0.0 NP','Non Pertinent','']\n",
    "valCols = []\n",
    "invalCols = []\n",
    "\n",
    "for col in df3.columns:\n",
    "    col_data = df3.loc[:,col]\n",
    "    isValid = True\n",
    "    for row in col_data:\n",
    "        if(row in invalidValues or pd.isna(row)):\n",
    "            isValid = False\n",
    "        else:\n",
    "            isValid = True\n",
    "            break\n",
    "    if(isValid==False):\n",
    "        invalCols.append(col)\n",
    "    else:\n",
    "        valCols.append(col)\n",
    "\n",
    "print(\"Valid cols are\")\n",
    "for i in valCols:\n",
    "    print(i)\n",
    "\n",
    "print(\"\\nInvalid cols are\")\n",
    "for i in invalCols:\n",
    "    print(i)"
   ]
  },
  {
   "cell_type": "code",
   "execution_count": 468,
   "metadata": {},
   "outputs": [
    {
     "data": {
      "text/html": [
       "<div>\n",
       "<style scoped>\n",
       "    .dataframe tbody tr th:only-of-type {\n",
       "        vertical-align: middle;\n",
       "    }\n",
       "\n",
       "    .dataframe tbody tr th {\n",
       "        vertical-align: top;\n",
       "    }\n",
       "\n",
       "    .dataframe thead th {\n",
       "        text-align: right;\n",
       "    }\n",
       "</style>\n",
       "<table border=\"1\" class=\"dataframe\">\n",
       "  <thead>\n",
       "    <tr style=\"text-align: right;\">\n",
       "      <th></th>\n",
       "      <th>3M ID</th>\n",
       "      <th>Marketplace Formal Name</th>\n",
       "      <th>Marketplace Description</th>\n",
       "      <th>Marketplace Description Extended</th>\n",
       "      <th>Main Picture</th>\n",
       "      <th>Shipper - Item Quantity</th>\n",
       "      <th>Abrasive Material</th>\n",
       "    </tr>\n",
       "  </thead>\n",
       "  <tbody>\n",
       "    <tr>\n",
       "      <th>2</th>\n",
       "      <td>7100260361</td>\n",
       "      <td>3M™ Brushlon Sheet 320B, 0.005 3/16 in Trim, G...</td>\n",
       "      <td>3M™ Brushlon Sheet 320B features short-trim ny...</td>\n",
       "      <td>3M™ Brushlon™ Abrasives: Choosing the Right On...</td>\n",
       "      <td>NaN</td>\n",
       "      <td>26.0</td>\n",
       "      <td>Nylon</td>\n",
       "    </tr>\n",
       "    <tr>\n",
       "      <th>3</th>\n",
       "      <td>7100260355</td>\n",
       "      <td>3M™ Brushlon Sheet 320BX, 0.005 1/8 in Trim, B...</td>\n",
       "      <td>3M™ Brushlon Roll 320BX is designed to provide...</td>\n",
       "      <td>3M™ Brushlon™ Abrasives: Choosing the Right On...</td>\n",
       "      <td>NaN</td>\n",
       "      <td>25.0</td>\n",
       "      <td>Nylon</td>\n",
       "    </tr>\n",
       "    <tr>\n",
       "      <th>4</th>\n",
       "      <td>7100260360</td>\n",
       "      <td>3M™ Brushlon Sheet 320B, 0.005 5/32 in Trim, G...</td>\n",
       "      <td>3M™ Brushlon Roll 320BX is designed to provide...</td>\n",
       "      <td>3M™ Brushlon™ Abrasives: Choosing the Right On...</td>\n",
       "      <td>NaN</td>\n",
       "      <td>25.0</td>\n",
       "      <td>Nylon</td>\n",
       "    </tr>\n",
       "    <tr>\n",
       "      <th>5</th>\n",
       "      <td>7100260363</td>\n",
       "      <td>3M™ Brushlon Sheet 320BX, 0.005 5/32 in Trim, ...</td>\n",
       "      <td>3M™ Brushlon Roll 320BX is designed to provide...</td>\n",
       "      <td>3M™ Brushlon™ Abrasives: Choosing the Right On...</td>\n",
       "      <td>NaN</td>\n",
       "      <td>25.0</td>\n",
       "      <td>Nylon</td>\n",
       "    </tr>\n",
       "    <tr>\n",
       "      <th>6</th>\n",
       "      <td>7100119912</td>\n",
       "      <td>3M™ Brushlon Roll 320BX, .005 5/32 in Trim, Bl...</td>\n",
       "      <td>3M™ Brushlon Roll 320B features short-trim nyl...</td>\n",
       "      <td>3M™ Brushlon™ Products: Choosing the Right One...</td>\n",
       "      <td>https://images.salsify.com/image/upload/s--jIO...</td>\n",
       "      <td>NaN</td>\n",
       "      <td>Nylon</td>\n",
       "    </tr>\n",
       "  </tbody>\n",
       "</table>\n",
       "</div>"
      ],
      "text/plain": [
       "        3M ID                            Marketplace Formal Name  \\\n",
       "2  7100260361  3M™ Brushlon Sheet 320B, 0.005 3/16 in Trim, G...   \n",
       "3  7100260355  3M™ Brushlon Sheet 320BX, 0.005 1/8 in Trim, B...   \n",
       "4  7100260360  3M™ Brushlon Sheet 320B, 0.005 5/32 in Trim, G...   \n",
       "5  7100260363  3M™ Brushlon Sheet 320BX, 0.005 5/32 in Trim, ...   \n",
       "6  7100119912  3M™ Brushlon Roll 320BX, .005 5/32 in Trim, Bl...   \n",
       "\n",
       "                             Marketplace Description  \\\n",
       "2  3M™ Brushlon Sheet 320B features short-trim ny...   \n",
       "3  3M™ Brushlon Roll 320BX is designed to provide...   \n",
       "4  3M™ Brushlon Roll 320BX is designed to provide...   \n",
       "5  3M™ Brushlon Roll 320BX is designed to provide...   \n",
       "6  3M™ Brushlon Roll 320B features short-trim nyl...   \n",
       "\n",
       "                    Marketplace Description Extended  \\\n",
       "2  3M™ Brushlon™ Abrasives: Choosing the Right On...   \n",
       "3  3M™ Brushlon™ Abrasives: Choosing the Right On...   \n",
       "4  3M™ Brushlon™ Abrasives: Choosing the Right On...   \n",
       "5  3M™ Brushlon™ Abrasives: Choosing the Right On...   \n",
       "6  3M™ Brushlon™ Products: Choosing the Right One...   \n",
       "\n",
       "                                       Main Picture  Shipper - Item Quantity  \\\n",
       "2                                                NaN                    26.0   \n",
       "3                                                NaN                    25.0   \n",
       "4                                                NaN                    25.0   \n",
       "5                                                NaN                    25.0   \n",
       "6  https://images.salsify.com/image/upload/s--jIO...                     NaN   \n",
       "\n",
       "  Abrasive Material  \n",
       "2             Nylon  \n",
       "3             Nylon  \n",
       "4             Nylon  \n",
       "5             Nylon  \n",
       "6             Nylon  "
      ]
     },
     "execution_count": 468,
     "metadata": {},
     "output_type": "execute_result"
    }
   ],
   "source": [
    "# Filtereing out invalid values from remaining columns\n",
    "valdf = df3.loc[:, valCols]\n",
    "valdf = valdf.replace(to_replace=['Non Pertinent','0.0 NP'],value=np.nan)\n",
    "valdf.head()"
   ]
  },
  {
   "cell_type": "code",
   "execution_count": 469,
   "metadata": {},
   "outputs": [
    {
     "name": "stdout",
     "output_type": "stream",
     "text": [
      "['3M ID', 'Name', 'Short Description', 'Description', 'Image', 'Shipping Quantity', 'Abrasive Material']\n"
     ]
    }
   ],
   "source": [
    "updtdColName = dict()\n",
    "updtdColName = {'Marketplace Formal Name':\"Name\",\n",
    "                'Marketplace Description':'Short Description',\n",
    "                'Marketplace Description Extended':'Description',\n",
    "                'Main Picture ':'Image',\n",
    "                'Shipper - Item Quantity':'Shipping Quantity'}\n",
    "newCols = []\n",
    "for col in valdf.columns:\n",
    "    if(col in updtdColName.keys()):\n",
    "        newCols.append(updtdColName[col].strip())\n",
    "    else:\n",
    "        col = col.replace(\"(Imperial)\",\"\")\n",
    "        newCols.append(col.strip())\n",
    "\n",
    "print(newCols)\n",
    "valdf.columns = newCols\n",
    "customCols = ['Brand', 'Manufacturer Name', 'Product Info','URL Key','Specification(s)']\n",
    "for c in customCols:\n",
    "    valdf[c] = \"\""
   ]
  },
  {
   "cell_type": "code",
   "execution_count": 470,
   "metadata": {},
   "outputs": [
    {
     "name": "stdout",
     "output_type": "stream",
     "text": [
      "<class 'pandas.core.frame.DataFrame'>\n",
      "RangeIndex: 6 entries, 2 to 7\n",
      "Data columns (total 12 columns):\n",
      " #   Column             Non-Null Count  Dtype \n",
      "---  ------             --------------  ----- \n",
      " 0   3M ID              6 non-null      object\n",
      " 1   Name               6 non-null      object\n",
      " 2   Short Description  6 non-null      object\n",
      " 3   Description        6 non-null      object\n",
      " 4   Image              2 non-null      object\n",
      " 5   Shipping Quantity  5 non-null      object\n",
      " 6   Abrasive Material  6 non-null      object\n",
      " 7   Brand              6 non-null      object\n",
      " 8   Manufacturer Name  6 non-null      object\n",
      " 9   Product Info       6 non-null      object\n",
      " 10  URL Key            6 non-null      object\n",
      " 11  Specification(s)   6 non-null      object\n",
      "dtypes: object(12)\n",
      "memory usage: 708.0+ bytes\n"
     ]
    }
   ],
   "source": [
    "# Final excel structure\n",
    "valdf.info()"
   ]
  },
  {
   "cell_type": "code",
   "execution_count": 471,
   "metadata": {},
   "outputs": [],
   "source": [
    "#Creating excel with required columns\n",
    "valdf.to_excel(outputFileName,index=None)"
   ]
  },
  {
   "cell_type": "code",
   "execution_count": 25,
   "metadata": {},
   "outputs": [
    {
     "data": {
      "text/plain": [
       "'/home/soham/Parser/xml_parser/output/JSON/3M/BrushSheetsAndRollsOptions.json'"
      ]
     },
     "execution_count": 25,
     "metadata": {},
     "output_type": "execute_result"
    }
   ],
   "source": [
    "# Creating json files from jsonFolder and outputFile names.\n",
    "# familyName = outputFileName.split(\"/\")[-1].split(\".\")[0].title()\n",
    "jsonFile = jsonFolder + outputFileName.split(\"/\")[-1].split(\".\")[0].title().replace(\" \",\"\")\n",
    "jsonAttrFile = jsonFile +\".json\"\n",
    "jsonOptionsFile = jsonFile + \"Options.json\"\n",
    "jsonOptionsFile"
   ]
  },
  {
   "cell_type": "code",
   "execution_count": 24,
   "metadata": {},
   "outputs": [
    {
     "name": "stderr",
     "output_type": "stream",
     "text": [
      "PHP Warning:  Module 'apcu' already loaded in Unknown on line 0\n",
      "PHP Warning:  Module 'apcu' already loaded in Unknown on line 0\n"
     ]
    },
    {
     "name": "stdout",
     "output_type": "stream",
     "text": [
      "Generated json for Name\n",
      "Generated json for Short Description\n",
      "Generated json for Description\n",
      "Generated json for Image\n",
      "Generated json for Shipping Quantity\n",
      "Generated json for Abrasive Material\n",
      "Generated json for Brand\n",
      "Generated json for Manufacturer Name\n",
      "Generated json for Product Info\n",
      "Generated json for URL Key\n",
      "Generated json for Specification(s)\n",
      "\n",
      "Setting family label is --> Brush Sheets And Rolls\n",
      "Setting family code is  --> brush_sheets_and_rolls\n",
      "GenXlsxAttributeJson.php Execution done. Return code 0\n",
      "GenAttributeOptionsJson.php Execution done. Return code 0\n"
     ]
    }
   ],
   "source": [
    "#Executing attribute and options generation and push command from here.\n",
    "return_list = sp.run(['/home/soham/Parser/xml_parser/bin/console','app:gen-attrs-json',outputFileName, jsonAttrFile, familyName, '--attrPush='+str(attrPush) ,'--famPush='+str(famPush)])\n",
    "print('GenXlsxAttributeJson.php Execution done. Return code', return_list.returncode)\n",
    "return_list = sp.run(['/home/soham/Parser/xml_parser/bin/console','app:gen-attrs-options-json',outputFileName, jsonOptionsFile, '--push='+str(optionsPush)])\n",
    "print('GenAttributeOptionsJson.php Execution done. Return code', return_list.returncode)"
   ]
  },
  {
   "cell_type": "code",
   "execution_count": null,
   "metadata": {},
   "outputs": [],
   "source": []
  }
 ],
 "metadata": {
  "kernelspec": {
   "display_name": "Python 3",
   "language": "python",
   "name": "python3"
  },
  "language_info": {
   "codemirror_mode": {
    "name": "ipython",
    "version": 3
   },
   "file_extension": ".py",
   "mimetype": "text/x-python",
   "name": "python",
   "nbconvert_exporter": "python",
   "pygments_lexer": "ipython3",
   "version": "3.8.10"
  },
  "orig_nbformat": 4,
  "vscode": {
   "interpreter": {
    "hash": "916dbcbb3f70747c44a77c7bcd40155683ae19c65e1c03b4aa3499c5328201f1"
   }
  }
 },
 "nbformat": 4,
 "nbformat_minor": 2
}
